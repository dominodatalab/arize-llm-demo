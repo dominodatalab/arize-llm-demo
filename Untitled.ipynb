{
 "cells": [
  {
   "cell_type": "code",
   "execution_count": 1,
   "id": "ed34cbe5-8d4e-4534-906e-f67190f117b0",
   "metadata": {},
   "outputs": [
    {
     "name": "stdout",
     "output_type": "stream",
     "text": [
      "Your Domino API key is: 1c0e4b35ca711bab909dad46d820e863b755c6cc86a839dd63a69d0ab72ad2f0\n"
     ]
    }
   ],
   "source": [
    "import os\n",
    "\n",
    "# Domino sets your API key in the environment\n",
    "api_key = os.getenv(\"DOMINO_USER_API_KEY\") or os.getenv(\"DOMINO_API_KEY\")\n",
    "\n",
    "if api_key:\n",
    "    print(f\"Your Domino API key is: {api_key}\")\n",
    "else:\n",
    "    print(\"No Domino API key found in environment variables.\")\n",
    "    "
   ]
  },
  {
   "cell_type": "code",
   "execution_count": null,
   "id": "b03438ff-107f-4c2f-96a0-8e79f39b40e1",
   "metadata": {},
   "outputs": [],
   "source": []
  }
 ],
 "metadata": {
  "kernelspec": {
   "display_name": "Python 3 (ipykernel)",
   "language": "python",
   "name": "python3"
  },
  "language_info": {
   "codemirror_mode": {
    "name": "ipython",
    "version": 3
   },
   "file_extension": ".py",
   "mimetype": "text/x-python",
   "name": "python",
   "nbconvert_exporter": "python",
   "pygments_lexer": "ipython3",
   "version": "3.10.14"
  }
 },
 "nbformat": 4,
 "nbformat_minor": 5
}
